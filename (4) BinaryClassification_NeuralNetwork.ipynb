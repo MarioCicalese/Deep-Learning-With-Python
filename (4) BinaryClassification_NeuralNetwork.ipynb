{
 "cells": [
  {
   "cell_type": "markdown",
   "metadata": {
    "id": "cWoIArHHvHN3"
   },
   "source": [
    "Partiamo da un problema di Classificazione binaria (2 classi). Risolveremo tale problema utilizzando un rete neurale.\n",
    "\n",
    "Il dataset utilizzato è imdb, presente nel package di keras. E' un set di dati di 50.000 recensioni di film da IMDB, etichettati dal sentimento (positivo/ negativo). Le recensioni sono state preprocessate e ogni recensione è codificata come un elenco di indici di parole (numeri interi).\n",
    "\n",
    "Partiamo con il caricare il dataset nel nostro workspace:"
   ]
  },
  {
   "cell_type": "code",
   "execution_count": null,
   "metadata": {
    "colab": {
     "base_uri": "https://localhost:8080/"
    },
    "executionInfo": {
     "elapsed": 4511,
     "status": "ok",
     "timestamp": 1744272790857,
     "user": {
      "displayName": "mario cicalese",
      "userId": "00340375313431391001"
     },
     "user_tz": -120
    },
    "id": "OmkelthEoCeZ",
    "outputId": "de715bff-762f-40d2-a220-9330e5d9eeb6"
   },
   "outputs": [
    {
     "name": "stdout",
     "output_type": "stream",
     "text": [
      "50000\n"
     ]
    }
   ],
   "source": [
    "from tensorflow.keras.datasets import imdb\n",
    "\n",
    "(train_data, train_labels), (test_data, test_labels) = imdb.load_data(num_words=10000)\n",
    "\n",
    "print(len(train_data) + len(test_data))"
   ]
  },
  {
   "cell_type": "markdown",
   "metadata": {
    "id": "Ouo-D56PwWtI"
   },
   "source": [
    "Ogni data points del dataset rappresenta una recensione processata; cioè un vettore di interi che rappresentano le parole utilizzate in quella determinata recensione.\n",
    "Le label invece rappresentano valori booleani (0,1) che indicano se la recensione è negativa o positiva."
   ]
  },
  {
   "cell_type": "code",
   "execution_count": 4,
   "metadata": {
    "colab": {
     "base_uri": "https://localhost:8080/"
    },
    "executionInfo": {
     "elapsed": 12,
     "status": "ok",
     "timestamp": 1744272578684,
     "user": {
      "displayName": "mario cicalese",
      "userId": "00340375313431391001"
     },
     "user_tz": -120
    },
    "id": "Fw7pj80dvvRe",
    "outputId": "35eca504-e3c1-44a6-819d-c549574ea326"
   },
   "outputs": [
    {
     "name": "stdout",
     "output_type": "stream",
     "text": [
      "[1, 14, 22, 16, 43, 530, 973, 1622, 1385, 65, 458, 4468, 66, 3941, 4, 173, 36, 256, 5, 25, 100, 43, 838, 112, 50, 670, 2, 9, 35, 480, 284, 5, 150, 4, 172, 112, 167, 2, 336, 385, 39, 4, 172, 4536, 1111, 17, 546, 38, 13, 447, 4, 192, 50, 16, 6, 147, 2025, 19, 14, 22, 4, 1920, 4613, 469, 4, 22, 71, 87, 12, 16, 43, 530, 38, 76, 15, 13, 1247, 4, 22, 17, 515, 17, 12, 16, 626, 18, 2, 5, 62, 386, 12, 8, 316, 8, 106, 5, 4, 2223, 5244, 16, 480, 66, 3785, 33, 4, 130, 12, 16, 38, 619, 5, 25, 124, 51, 36, 135, 48, 25, 1415, 33, 6, 22, 12, 215, 28, 77, 52, 5, 14, 407, 16, 82, 2, 8, 4, 107, 117, 5952, 15, 256, 4, 2, 7, 3766, 5, 723, 36, 71, 43, 530, 476, 26, 400, 317, 46, 7, 4, 2, 1029, 13, 104, 88, 4, 381, 15, 297, 98, 32, 2071, 56, 26, 141, 6, 194, 7486, 18, 4, 226, 22, 21, 134, 476, 26, 480, 5, 144, 30, 5535, 18, 51, 36, 28, 224, 92, 25, 104, 4, 226, 65, 16, 38, 1334, 88, 12, 16, 283, 5, 16, 4472, 113, 103, 32, 15, 16, 5345, 19, 178, 32]\n",
      "\n",
      "\n",
      "1\n"
     ]
    }
   ],
   "source": [
    "print(train_data[0]), print(\"\\n\")\n",
    "print(train_labels[0])"
   ]
  },
  {
   "cell_type": "markdown",
   "metadata": {
    "id": "CetDhvCJ07yq"
   },
   "source": [
    "**Creiamo un mapping 1:1 tra le parole e gli indici in modo da conoscere a che parola corrisponde ogni indice**\n",
    "\n",
    "Perchè i - 3? Nei dati originali, gli indici 0, 1 e 2 sono riservati a: padding(0), inizio sequenza(1), token sconosciuto(2)\n",
    "\n",
    "**Quindi si sottrae 3 per mappare correttamente ai veri indici delle parole.**"
   ]
  },
  {
   "cell_type": "code",
   "execution_count": 15,
   "metadata": {
    "colab": {
     "base_uri": "https://localhost:8080/"
    },
    "executionInfo": {
     "elapsed": 111,
     "status": "ok",
     "timestamp": 1744273861935,
     "user": {
      "displayName": "mario cicalese",
      "userId": "00340375313431391001"
     },
     "user_tz": -120
    },
    "id": "efOUU5sjw5EM",
    "outputId": "b02c7cb6-fd2e-4c9f-a3d7-51a96a58ab17"
   },
   "outputs": [
    {
     "name": "stdout",
     "output_type": "stream",
     "text": [
      "? this film was just brilliant casting location scenery story direction everyone's really suited the part they played and you could just imagine being there robert ? is an amazing actor and now the same being director ? father came from the same scottish island as myself so i loved the fact there was a real connection with this film the witty remarks throughout the film were great it was just brilliant so much that i bought the film as soon as it was released for ? and would recommend it to everyone to watch and the fly fishing was amazing really cried at the end it was so sad and you know what they say if you cry at a film it must have been good and this definitely was also ? to the two little boy's that played the ? of norman and paul they were just brilliant children are often left out of the ? list i think because the stars that play them all grown up are such a big profile for the whole film but these children are amazing and should be praised for what they have done don't you think the whole story was so lovely because it was true and was someone's life after all that was shared with us all\n"
     ]
    }
   ],
   "source": [
    "word_index = imdb.get_word_index()\n",
    "reverse_word_index = dict(\n",
    "    [(value,key) for (key,value) in word_index.items()])\n",
    "\n",
    "#Mostriamo per esempio il testo originale della prima recensione\n",
    "decoded_review = \" \".join(\n",
    "    [reverse_word_index.get(i - 3, \"?\") for i in train_data[0]]\n",
    ")\n",
    "\n",
    "print(decoded_review)"
   ]
  },
  {
   "cell_type": "markdown",
   "metadata": {
    "id": "SFAjJ9wT29QV"
   },
   "source": [
    "Arrivati a questo punto non possiamo dare in input direttamente questi dati alla rete neurale, questo perchè i vari vettori (recensioni) hanno differenti lunghezze (le recensione non hanno sempre lo stesso numero di parole, quindi hanno differente lunghezza), inoltre, la rete neurale si aspetta di avere in input dei tensori, non devi vettori numerici. \n",
    "\n",
    "**Quindi dobbiamo gestire questi due aspetti prima di poter dare i dati in input alla rete.**\n",
    "\n",
    "Per far questo utilizziamo la tecnica del **Multi-hot encoding**. Più precisamente, creiamo un **tensore di float di dimensione (NumRecensioni,GrandezzaVocabolario)**. In questo caso sappiamo che il vocabolario contiene 10.000 parole, quindi il tensore 2D avrà 10.000 colonne, e un numero di righe uguale al numero di recensioni. Così facendo avremo vettori della stessa grandezza (dimensione 10.000). I vettori \"vecchi\" verrano convertiti nei \"nuovi\" vettori di dimensione 10.000 tramite il multi-hot encoding. Cioè, data una recensione, il suo nuovo vettore avrà un valore 1 nella posizione i-esima se la recensione che stiamo considerando contiene la parola i-esima, 0 altrimenti.\n",
    "\n",
    "Es: review = [15, 432, 123, 7]\n",
    "\n",
    "Il nuovo vettore che rappresentà review avrà valori 1 in posizione 15,432,123 e 7, in modo da poter risalire alle parole che erano presenti nella recensione anche dopo l'encoding. Tutte le altre posizioni avranno valore 0."
   ]
  },
  {
   "cell_type": "code",
   "execution_count": 19,
   "metadata": {
    "executionInfo": {
     "elapsed": 3,
     "status": "ok",
     "timestamp": 1744276039877,
     "user": {
      "displayName": "mario cicalese",
      "userId": "00340375313431391001"
     },
     "user_tz": -120
    },
    "id": "e2w-Wm6M3akf"
   },
   "outputs": [],
   "source": [
    "import numpy as np\n",
    "\n",
    "def vectorize_sequences(sequences, dimension=10000):\n",
    "    results = np.zeros((len(sequences), dimension)) #Inizialmente il tensore viene inizializzato con tutti valori 0\n",
    "    for i, sequence in enumerate(sequences):\n",
    "        for word in sequence:\n",
    "          results[i, word] = 1.\n",
    "    return results"
   ]
  },
  {
   "cell_type": "markdown",
   "metadata": {
    "id": "1QU2V5qR9Wu8"
   },
   "source": [
    "**Convertiamo i dati di training e testing in dei tensori 2D composti da vettori booleani.**"
   ]
  },
  {
   "cell_type": "code",
   "execution_count": 20,
   "metadata": {
    "executionInfo": {
     "elapsed": 3728,
     "status": "ok",
     "timestamp": 1744276104550,
     "user": {
      "displayName": "mario cicalese",
      "userId": "00340375313431391001"
     },
     "user_tz": -120
    },
    "id": "Z7q8Sx6T8nIa"
   },
   "outputs": [],
   "source": [
    "x_train = vectorize_sequences(train_data)\n",
    "x_test = vectorize_sequences(test_data)"
   ]
  },
  {
   "cell_type": "markdown",
   "metadata": {
    "id": "ESrVepzD9y4m"
   },
   "source": [
    "**Dobbiamo trasformare anche le label in tensori.**"
   ]
  },
  {
   "cell_type": "code",
   "execution_count": 22,
   "metadata": {
    "executionInfo": {
     "elapsed": 3,
     "status": "ok",
     "timestamp": 1744276290363,
     "user": {
      "displayName": "mario cicalese",
      "userId": "00340375313431391001"
     },
     "user_tz": -120
    },
    "id": "jpahgQ7-99fv"
   },
   "outputs": [],
   "source": [
    "y_train = np.asarray(train_labels).astype(\"float32\")\n",
    "y_test = np.asarray(test_labels).astype(\"float32\")"
   ]
  },
  {
   "cell_type": "markdown",
   "metadata": {
    "id": "ba098w_7-FvY"
   },
   "source": [
    "**Adesso i dati che abbiamo a disposizione sono pronti per essere dati in input ad una rete neurale.**\n",
    "\n",
    "**Passiamo quindi alla costruzione del nostro modello.**\n",
    "\n",
    "Considerando i dati di input, abbiamo dei vettori booleani dove le label sono degli scalari booleani. Un modello che performa abbastanza bene su un problema del genere è un modello composto da una **pila di Dense Layer (layer completamente connessi)**. Quando si scegliere di utilizzare un'architettura del genere bisogna prendere 2 decisioni:\n",
    "\n",
    "**1) Quanti layer devo combinare tra di loro? Quindi, quanti layer devo utilizzare**\n",
    "\n",
    "**2) Da quanti neuroni/unità dev'essere composto ogni singolo layer?**\n",
    "\n",
    "In questo caso utilizzerò 2 Dense layer intermedi composti da 16 neuroni ciascuno e un Terzo layer Denso composto solo da un unico neurone (visto che abbiamo un poblema di classificazione binario), che si occuperà di restituire il valore che rappresenta con che probabilità la recensione in input è una recensione positiva.\n"
   ]
  },
  {
   "cell_type": "code",
   "execution_count": 25,
   "metadata": {
    "executionInfo": {
     "elapsed": 55,
     "status": "ok",
     "timestamp": 1744279365590,
     "user": {
      "displayName": "mario cicalese",
      "userId": "00340375313431391001"
     },
     "user_tz": -120
    },
    "id": "f0YnQVNkJmZ8"
   },
   "outputs": [],
   "source": [
    "from tensorflow import keras\n",
    "from tensorflow.keras import layers\n",
    "\n",
    "model = keras.Sequential([\n",
    "layers.Dense(16, activation=\"relu\"),\n",
    "layers.Dense(16, activation=\"relu\"),\n",
    "layers.Dense(1, activation=\"sigmoid\")\n",
    "])"
   ]
  },
  {
   "cell_type": "markdown",
   "metadata": {
    "id": "CzsKOil0Jyny"
   },
   "source": [
    "Come funzione di attivazione è stata scelta la **ReLU = max(0,max)** cosi la rete può modellare anche trasformazioni non lineari e apprendere dei pattern più complessi presenti nei dati.\n",
    "\n",
    "L'ultimo layer denso utilizza una funzione di attivazione **sigmoide** in quanto il layer restituisce un unico valore.\n",
    "\n",
    "Arrivato a questo punto dobbiamo scegliere:\n",
    "\n",
    "**1) Ottimizzatore -> rmsprop:** che è solitamente una buona scelta nella maggior parte dei casi\n",
    "\n",
    "**2) Funzione di Loss -> binary cross entropy:** in quanto abbiamo un problema di classificazione binario\n",
    "\n",
    "**3) metriche -> accuracy:** anche in questo caso, è uno degli standard per questo problema"
   ]
  },
  {
   "cell_type": "code",
   "execution_count": 26,
   "metadata": {
    "executionInfo": {
     "elapsed": 623,
     "status": "ok",
     "timestamp": 1744279377066,
     "user": {
      "displayName": "mario cicalese",
      "userId": "00340375313431391001"
     },
     "user_tz": -120
    },
    "id": "WiR-7vSzJwtR"
   },
   "outputs": [],
   "source": [
    "model.compile(optimizer=\"rmsprop\",\n",
    "loss=\"binary_crossentropy\",\n",
    "metrics=[\"accuracy\"])"
   ]
  },
  {
   "cell_type": "markdown",
   "metadata": {
    "id": "J_xi1azSLOTo"
   },
   "source": [
    "L'ultimo passo prima dell'allenamento del modello è definire il validation set sul quale testeremo il modello una volta alleanto. Ovviamente il validation set dev'essere composto da dati che il modello non vedrà durante l'allenamento e che allo stesso tempo abbia una distribuzione simile rispetto ai dati di training.\n",
    "\n",
    "Di conseguenza, preleviamo dal training set 10.000 samples che verranno utilizzati come validation set, mentre i restanti come training set"
   ]
  },
  {
   "cell_type": "code",
   "execution_count": 27,
   "metadata": {
    "executionInfo": {
     "elapsed": 5,
     "status": "ok",
     "timestamp": 1744279887343,
     "user": {
      "displayName": "mario cicalese",
      "userId": "00340375313431391001"
     },
     "user_tz": -120
    },
    "id": "SuM7liftLk94"
   },
   "outputs": [],
   "source": [
    "x_val = x_test[:10000]\n",
    "partial_x_train = x_test[10000:]\n",
    "\n",
    "y_val = y_test[:10000]\n",
    "partial_y_train = y_test[10000:]"
   ]
  },
  {
   "cell_type": "markdown",
   "metadata": {
    "id": "vaaTbG_pL04b"
   },
   "source": [
    "E' arrivato il momento di allenare il modello.\n",
    "Il modello verrà allenato su 20 epoche (quindi il modello vedrà 20 volte il training set durante l'allenamento) in mini-batch da 512 samples. Quindi l'aggiornamento dei pesi verrà fatto ogni volta considerando 512 samples."
   ]
  },
  {
   "cell_type": "code",
   "execution_count": 28,
   "metadata": {
    "colab": {
     "base_uri": "https://localhost:8080/"
    },
    "executionInfo": {
     "elapsed": 45039,
     "status": "ok",
     "timestamp": 1744280021350,
     "user": {
      "displayName": "mario cicalese",
      "userId": "00340375313431391001"
     },
     "user_tz": -120
    },
    "id": "0ET7phpGLvau",
    "outputId": "7b907f12-9fba-4523-9802-6b0e07598a99"
   },
   "outputs": [
    {
     "name": "stdout",
     "output_type": "stream",
     "text": [
      "Epoch 1/20\n",
      "\u001b[1m30/30\u001b[0m \u001b[32m━━━━━━━━━━━━━━━━━━━━\u001b[0m\u001b[37m\u001b[0m \u001b[1m11s\u001b[0m 324ms/step - accuracy: 0.6802 - loss: 0.6104 - val_accuracy: 0.8654 - val_loss: 0.3920\n",
      "Epoch 2/20\n",
      "\u001b[1m30/30\u001b[0m \u001b[32m━━━━━━━━━━━━━━━━━━━━\u001b[0m\u001b[37m\u001b[0m \u001b[1m2s\u001b[0m 45ms/step - accuracy: 0.8964 - loss: 0.3363 - val_accuracy: 0.8881 - val_loss: 0.3051\n",
      "Epoch 3/20\n",
      "\u001b[1m30/30\u001b[0m \u001b[32m━━━━━━━━━━━━━━━━━━━━\u001b[0m\u001b[37m\u001b[0m \u001b[1m1s\u001b[0m 46ms/step - accuracy: 0.9274 - loss: 0.2350 - val_accuracy: 0.8876 - val_loss: 0.2820\n",
      "Epoch 4/20\n",
      "\u001b[1m30/30\u001b[0m \u001b[32m━━━━━━━━━━━━━━━━━━━━\u001b[0m\u001b[37m\u001b[0m \u001b[1m2s\u001b[0m 35ms/step - accuracy: 0.9404 - loss: 0.1873 - val_accuracy: 0.8894 - val_loss: 0.2716\n",
      "Epoch 5/20\n",
      "\u001b[1m30/30\u001b[0m \u001b[32m━━━━━━━━━━━━━━━━━━━━\u001b[0m\u001b[37m\u001b[0m \u001b[1m1s\u001b[0m 47ms/step - accuracy: 0.9524 - loss: 0.1545 - val_accuracy: 0.8871 - val_loss: 0.2809\n",
      "Epoch 6/20\n",
      "\u001b[1m30/30\u001b[0m \u001b[32m━━━━━━━━━━━━━━━━━━━━\u001b[0m\u001b[37m\u001b[0m \u001b[1m2s\u001b[0m 58ms/step - accuracy: 0.9664 - loss: 0.1205 - val_accuracy: 0.8759 - val_loss: 0.3099\n",
      "Epoch 7/20\n",
      "\u001b[1m30/30\u001b[0m \u001b[32m━━━━━━━━━━━━━━━━━━━━\u001b[0m\u001b[37m\u001b[0m \u001b[1m2s\u001b[0m 46ms/step - accuracy: 0.9697 - loss: 0.1057 - val_accuracy: 0.8852 - val_loss: 0.2978\n",
      "Epoch 8/20\n",
      "\u001b[1m30/30\u001b[0m \u001b[32m━━━━━━━━━━━━━━━━━━━━\u001b[0m\u001b[37m\u001b[0m \u001b[1m1s\u001b[0m 37ms/step - accuracy: 0.9776 - loss: 0.0857 - val_accuracy: 0.8775 - val_loss: 0.3341\n",
      "Epoch 9/20\n",
      "\u001b[1m30/30\u001b[0m \u001b[32m━━━━━━━━━━━━━━━━━━━━\u001b[0m\u001b[37m\u001b[0m \u001b[1m1s\u001b[0m 35ms/step - accuracy: 0.9769 - loss: 0.0817 - val_accuracy: 0.8808 - val_loss: 0.3307\n",
      "Epoch 10/20\n",
      "\u001b[1m30/30\u001b[0m \u001b[32m━━━━━━━━━━━━━━━━━━━━\u001b[0m\u001b[37m\u001b[0m \u001b[1m1s\u001b[0m 35ms/step - accuracy: 0.9835 - loss: 0.0648 - val_accuracy: 0.8754 - val_loss: 0.3687\n",
      "Epoch 11/20\n",
      "\u001b[1m30/30\u001b[0m \u001b[32m━━━━━━━━━━━━━━━━━━━━\u001b[0m\u001b[37m\u001b[0m \u001b[1m1s\u001b[0m 34ms/step - accuracy: 0.9898 - loss: 0.0519 - val_accuracy: 0.8776 - val_loss: 0.3691\n",
      "Epoch 12/20\n",
      "\u001b[1m30/30\u001b[0m \u001b[32m━━━━━━━━━━━━━━━━━━━━\u001b[0m\u001b[37m\u001b[0m \u001b[1m1s\u001b[0m 35ms/step - accuracy: 0.9934 - loss: 0.0400 - val_accuracy: 0.8517 - val_loss: 0.5093\n",
      "Epoch 13/20\n",
      "\u001b[1m30/30\u001b[0m \u001b[32m━━━━━━━━━━━━━━━━━━━━\u001b[0m\u001b[37m\u001b[0m \u001b[1m1s\u001b[0m 36ms/step - accuracy: 0.9922 - loss: 0.0405 - val_accuracy: 0.8718 - val_loss: 0.4228\n",
      "Epoch 14/20\n",
      "\u001b[1m30/30\u001b[0m \u001b[32m━━━━━━━━━━━━━━━━━━━━\u001b[0m\u001b[37m\u001b[0m \u001b[1m2s\u001b[0m 51ms/step - accuracy: 0.9954 - loss: 0.0299 - val_accuracy: 0.8726 - val_loss: 0.4344\n",
      "Epoch 15/20\n",
      "\u001b[1m30/30\u001b[0m \u001b[32m━━━━━━━━━━━━━━━━━━━━\u001b[0m\u001b[37m\u001b[0m \u001b[1m2s\u001b[0m 36ms/step - accuracy: 0.9954 - loss: 0.0265 - val_accuracy: 0.8711 - val_loss: 0.4554\n",
      "Epoch 16/20\n",
      "\u001b[1m30/30\u001b[0m \u001b[32m━━━━━━━━━━━━━━━━━━━━\u001b[0m\u001b[37m\u001b[0m \u001b[1m1s\u001b[0m 37ms/step - accuracy: 0.9960 - loss: 0.0233 - val_accuracy: 0.8688 - val_loss: 0.4847\n",
      "Epoch 17/20\n",
      "\u001b[1m30/30\u001b[0m \u001b[32m━━━━━━━━━━━━━━━━━━━━\u001b[0m\u001b[37m\u001b[0m \u001b[1m1s\u001b[0m 36ms/step - accuracy: 0.9968 - loss: 0.0189 - val_accuracy: 0.8681 - val_loss: 0.5126\n",
      "Epoch 18/20\n",
      "\u001b[1m30/30\u001b[0m \u001b[32m━━━━━━━━━━━━━━━━━━━━\u001b[0m\u001b[37m\u001b[0m \u001b[1m1s\u001b[0m 35ms/step - accuracy: 0.9974 - loss: 0.0166 - val_accuracy: 0.8700 - val_loss: 0.5294\n",
      "Epoch 19/20\n",
      "\u001b[1m30/30\u001b[0m \u001b[32m━━━━━━━━━━━━━━━━━━━━\u001b[0m\u001b[37m\u001b[0m \u001b[1m1s\u001b[0m 35ms/step - accuracy: 0.9989 - loss: 0.0113 - val_accuracy: 0.8709 - val_loss: 0.5459\n",
      "Epoch 20/20\n",
      "\u001b[1m30/30\u001b[0m \u001b[32m━━━━━━━━━━━━━━━━━━━━\u001b[0m\u001b[37m\u001b[0m \u001b[1m1s\u001b[0m 35ms/step - accuracy: 0.9994 - loss: 0.0098 - val_accuracy: 0.8688 - val_loss: 0.5697\n"
     ]
    }
   ],
   "source": [
    "history = model.fit(partial_x_train,\n",
    "                    partial_y_train,\n",
    "                    epochs=20,\n",
    "                    batch_size=512,\n",
    "                    validation_data=(x_val, y_val))"
   ]
  },
  {
   "cell_type": "markdown",
   "metadata": {
    "id": "tI7pct0rMRn5"
   },
   "source": [
    "Il metodo fit() restituisce un dizionario (history) che contiene informazioni riguardanti l'allenamento del modello, come la loss e accury sia sui dati di training che su quelli di validation. Mostrando un grafico di questi valori è possibile interpretare il comportamento che ha avuto il modello sia durante il training, che durante la fase di validazione, in modo da capire se esso va in overfitting, underfitting o funziona correttamente."
   ]
  },
  {
   "cell_type": "code",
   "execution_count": 31,
   "metadata": {
    "colab": {
     "base_uri": "https://localhost:8080/"
    },
    "executionInfo": {
     "elapsed": 11,
     "status": "ok",
     "timestamp": 1744280214620,
     "user": {
      "displayName": "mario cicalese",
      "userId": "00340375313431391001"
     },
     "user_tz": -120
    },
    "id": "VIjjtYzSMusQ",
    "outputId": "226fac24-6af6-41c7-d913-d42e6a4d752b"
   },
   "outputs": [
    {
     "data": {
      "text/plain": [
       "dict_keys(['accuracy', 'loss', 'val_accuracy', 'val_loss'])"
      ]
     },
     "execution_count": 31,
     "metadata": {},
     "output_type": "execute_result"
    }
   ],
   "source": [
    "history_dict = history.history\n",
    "history_dict.keys()"
   ]
  },
  {
   "cell_type": "code",
   "execution_count": 33,
   "metadata": {
    "colab": {
     "base_uri": "https://localhost:8080/",
     "height": 472
    },
    "executionInfo": {
     "elapsed": 2066,
     "status": "ok",
     "timestamp": 1744280292987,
     "user": {
      "displayName": "mario cicalese",
      "userId": "00340375313431391001"
     },
     "user_tz": -120
    },
    "id": "3iq-BpkKM_Nf",
    "outputId": "f745c81b-b265-4c7b-a965-631a5a3d0ca7"
   },
   "outputs": [
    {
     "data": {
      "image/png": "[encoded data removed]",
      "text/plain": [
       "<Figure size 640x480 with 1 Axes>"
      ]
     },
     "metadata": {},
     "output_type": "display_data"
    }
   ],
   "source": [
    "import matplotlib.pyplot as plt\n",
    "\n",
    "loss_values = history_dict[\"loss\"]\n",
    "val_loss_values = history_dict[\"val_loss\"]\n",
    "epochs = range(1, len(loss_values) + 1)\n",
    "\n",
    "plt.plot(epochs, loss_values, \"bo\", label=\"Training loss\")\n",
    "plt.plot(epochs, val_loss_values, \"b\", label=\"Validation loss\")\n",
    "plt.title(\"Training and validation loss\")\n",
    "plt.xlabel(\"Epochs\")\n",
    "plt.ylabel(\"Loss\")\n",
    "plt.legend()\n",
    "\n",
    "plt.show()"
   ]
  },
  {
   "cell_type": "markdown",
   "metadata": {
    "id": "fanZ57yXkO84"
   },
   "source": [
    "Osservando le due curve, possiamo notare come la training loss epoca dopo epoca diminuisce sempre di più (ed è quello che ci aspettiamo di ottenere quando si usa il gradiente). D'altro canto però, la validation loss, dalla quarta epoca in poi inizia a risalire, **suggerendo un overfitting da parte del modello**, questo indica che il modello sta over-ottimizando i dati di training, imparando dei pattern/caratteristiche legate solo ai dati di training, che non generalizzano/si presentano in dati al di fuori di quelli di training.\n",
    "\n",
    "**Da qui quindi parte un pò la fase di tuning/test dove si provano varie modifiche per risolvere il problema/ genereare un modello migliore**\n",
    "\n",
    "0) Si potrebbe provare a diminuire/aumentare le epoche. **La situazione non cambia**, solitamente si lavora sulle epoche quando già il modello è stabile, e quindi in quel caso si \"gioca\" sul numero di epoche. Ma in questo caso che il modello è in overfitting, variare le epoche poterà sempre allo stesso comportamento.\n",
    "\n",
    "1) si potrebbe provare magari utilizzando 8 neuroni per layer, piuttosto che 16.\n",
    " **Il modello va comunque in overfitting**\n",
    "\n",
    "2) Se ne metto invece 64?  \n",
    "(ricordiamo che comunque dalla teoria, più neuroni inseriamo in un livello, più si rischia l'overfitting)\n",
    "\n",
    "**Anche con 64 il risultato è lo stesso, la rete overfitta.**\n",
    "\n",
    "3) Proviamo a cambiare la funzione di attivazione (**Proviamo con la tangente - TAHN**). **Provando, si ha che comunque la rete va in overfitting, in questo caso notiamo che la training loss parte con un valore piu alto, quindi ci aspettiamo che ci sia una discesa piu forte, cosa che succede**\n",
    "\n",
    "3.1) Proviamo con una loss lineare? **Ma la situazione non cambia**\n",
    "\n",
    "4) Arrivati a questo punto, le uniche cose non modificate sono l'architettura e i dati. **Proviamo ad agire sull'architettura, utilizzando il dropout**, in modo da \"spegnere\" alcuni neuroni. Proviamo con un dropout del 50% (in ogni layer spegnamo il 50% dei neuroni, solo la metà dei neuroni darà il proprio contributo.). **Il dropout rallenta la convergenza, che è un punto di forza nell'overfitting, ma il contro è che abbiamo un nuovo parametro da \"tunare\", quindi capire qual'è il giusto valore da assegnare al dropout.**"
   ]
  },
  {
   "cell_type": "code",
   "execution_count": 37,
   "metadata": {
    "colab": {
     "base_uri": "https://localhost:8080/",
     "height": 1000
    },
    "executionInfo": {
     "elapsed": 38186,
     "status": "ok",
     "timestamp": 1744287497938,
     "user": {
      "displayName": "mario cicalese",
      "userId": "00340375313431391001"
     },
     "user_tz": -120
    },
    "id": "wy-uE6yOoCl9",
    "outputId": "5a48405b-2dfb-45d8-f26f-462d1ffe2b1d"
   },
   "outputs": [
    {
     "name": "stdout",
     "output_type": "stream",
     "text": [
      "Epoch 1/20\n",
      "\u001b[1m30/30\u001b[0m \u001b[32m━━━━━━━━━━━━━━━━━━━━\u001b[0m\u001b[37m\u001b[0m \u001b[1m5s\u001b[0m 102ms/step - accuracy: 0.5596 - loss: 0.6751 - val_accuracy: 0.8328 - val_loss: 0.5854\n",
      "Epoch 2/20\n",
      "\u001b[1m30/30\u001b[0m \u001b[32m━━━━━━━━━━━━━━━━━━━━\u001b[0m\u001b[37m\u001b[0m \u001b[1m2s\u001b[0m 55ms/step - accuracy: 0.7080 - loss: 0.5784 - val_accuracy: 0.8543 - val_loss: 0.4854\n",
      "Epoch 3/20\n",
      "\u001b[1m30/30\u001b[0m \u001b[32m━━━━━━━━━━━━━━━━━━━━\u001b[0m\u001b[37m\u001b[0m \u001b[1m1s\u001b[0m 46ms/step - accuracy: 0.7800 - loss: 0.4905 - val_accuracy: 0.8743 - val_loss: 0.3959\n",
      "Epoch 4/20\n",
      "\u001b[1m30/30\u001b[0m \u001b[32m━━━━━━━━━━━━━━━━━━━━\u001b[0m\u001b[37m\u001b[0m \u001b[1m1s\u001b[0m 36ms/step - accuracy: 0.8338 - loss: 0.4232 - val_accuracy: 0.8838 - val_loss: 0.3477\n",
      "Epoch 5/20\n",
      "\u001b[1m30/30\u001b[0m \u001b[32m━━━━━━━━━━━━━━━━━━━━\u001b[0m\u001b[37m\u001b[0m \u001b[1m1s\u001b[0m 35ms/step - accuracy: 0.8679 - loss: 0.3658 - val_accuracy: 0.8844 - val_loss: 0.3174\n",
      "Epoch 6/20\n",
      "\u001b[1m30/30\u001b[0m \u001b[32m━━━━━━━━━━━━━━━━━━━━\u001b[0m\u001b[37m\u001b[0m \u001b[1m3s\u001b[0m 108ms/step - accuracy: 0.8924 - loss: 0.3258 - val_accuracy: 0.8882 - val_loss: 0.2903\n",
      "Epoch 7/20\n",
      "\u001b[1m30/30\u001b[0m \u001b[32m━━━━━━━━━━━━━━━━━━━━\u001b[0m\u001b[37m\u001b[0m \u001b[1m3s\u001b[0m 98ms/step - accuracy: 0.9055 - loss: 0.2850 - val_accuracy: 0.8799 - val_loss: 0.2916\n",
      "Epoch 8/20\n",
      "\u001b[1m30/30\u001b[0m \u001b[32m━━━━━━━━━━━━━━━━━━━━\u001b[0m\u001b[37m\u001b[0m \u001b[1m3s\u001b[0m 37ms/step - accuracy: 0.9244 - loss: 0.2512 - val_accuracy: 0.8886 - val_loss: 0.2753\n",
      "Epoch 9/20\n",
      "\u001b[1m30/30\u001b[0m \u001b[32m━━━━━━━━━━━━━━━━━━━━\u001b[0m\u001b[37m\u001b[0m \u001b[1m1s\u001b[0m 37ms/step - accuracy: 0.9312 - loss: 0.2299 - val_accuracy: 0.8888 - val_loss: 0.2796\n",
      "Epoch 10/20\n",
      "\u001b[1m30/30\u001b[0m \u001b[32m━━━━━━━━━━━━━━━━━━━━\u001b[0m\u001b[37m\u001b[0m \u001b[1m1s\u001b[0m 35ms/step - accuracy: 0.9396 - loss: 0.2061 - val_accuracy: 0.8870 - val_loss: 0.2889\n",
      "Epoch 11/20\n",
      "\u001b[1m30/30\u001b[0m \u001b[32m━━━━━━━━━━━━━━━━━━━━\u001b[0m\u001b[37m\u001b[0m \u001b[1m1s\u001b[0m 35ms/step - accuracy: 0.9485 - loss: 0.1777 - val_accuracy: 0.8869 - val_loss: 0.3114\n",
      "Epoch 12/20\n",
      "\u001b[1m30/30\u001b[0m \u001b[32m━━━━━━━━━━━━━━━━━━━━\u001b[0m\u001b[37m\u001b[0m \u001b[1m1s\u001b[0m 35ms/step - accuracy: 0.9503 - loss: 0.1642 - val_accuracy: 0.8806 - val_loss: 0.3323\n",
      "Epoch 13/20\n",
      "\u001b[1m30/30\u001b[0m \u001b[32m━━━━━━━━━━━━━━━━━━━━\u001b[0m\u001b[37m\u001b[0m \u001b[1m1s\u001b[0m 38ms/step - accuracy: 0.9543 - loss: 0.1546 - val_accuracy: 0.8867 - val_loss: 0.3388\n",
      "Epoch 14/20\n",
      "\u001b[1m30/30\u001b[0m \u001b[32m━━━━━━━━━━━━━━━━━━━━\u001b[0m\u001b[37m\u001b[0m \u001b[1m1s\u001b[0m 44ms/step - accuracy: 0.9572 - loss: 0.1421 - val_accuracy: 0.8842 - val_loss: 0.3729\n",
      "Epoch 15/20\n",
      "\u001b[1m30/30\u001b[0m \u001b[32m━━━━━━━━━━━━━━━━━━━━\u001b[0m\u001b[37m\u001b[0m \u001b[1m2s\u001b[0m 55ms/step - accuracy: 0.9599 - loss: 0.1376 - val_accuracy: 0.8861 - val_loss: 0.3676\n",
      "Epoch 16/20\n",
      "\u001b[1m30/30\u001b[0m \u001b[32m━━━━━━━━━━━━━━━━━━━━\u001b[0m\u001b[37m\u001b[0m \u001b[1m1s\u001b[0m 39ms/step - accuracy: 0.9654 - loss: 0.1195 - val_accuracy: 0.8864 - val_loss: 0.4213\n",
      "Epoch 17/20\n",
      "\u001b[1m30/30\u001b[0m \u001b[32m━━━━━━━━━━━━━━━━━━━━\u001b[0m\u001b[37m\u001b[0m \u001b[1m1s\u001b[0m 35ms/step - accuracy: 0.9655 - loss: 0.1151 - val_accuracy: 0.8810 - val_loss: 0.4311\n",
      "Epoch 18/20\n",
      "\u001b[1m30/30\u001b[0m \u001b[32m━━━━━━━━━━━━━━━━━━━━\u001b[0m\u001b[37m\u001b[0m \u001b[1m1s\u001b[0m 34ms/step - accuracy: 0.9700 - loss: 0.1032 - val_accuracy: 0.8810 - val_loss: 0.4420\n",
      "Epoch 19/20\n",
      "\u001b[1m30/30\u001b[0m \u001b[32m━━━━━━━━━━━━━━━━━━━━\u001b[0m\u001b[37m\u001b[0m \u001b[1m1s\u001b[0m 35ms/step - accuracy: 0.9743 - loss: 0.0929 - val_accuracy: 0.8851 - val_loss: 0.4696\n",
      "Epoch 20/20\n",
      "\u001b[1m30/30\u001b[0m \u001b[32m━━━━━━━━━━━━━━━━━━━━\u001b[0m\u001b[37m\u001b[0m \u001b[1m1s\u001b[0m 34ms/step - accuracy: 0.9735 - loss: 0.0893 - val_accuracy: 0.8836 - val_loss: 0.4802\n"
     ]
    },
    {
     "data": {
      "image/png": "[encoded data removed]",
      "text/plain": [
       "<Figure size 640x480 with 1 Axes>"
      ]
     },
     "metadata": {},
     "output_type": "display_data"
    }
   ],
   "source": [
    "from tensorflow.keras.layers import Dropout\n",
    "\n",
    "model = keras.Sequential([\n",
    "layers.Dense(16, activation=\"relu\"),\n",
    "layers.Dropout(0.5),\n",
    "layers.Dense(16, activation=\"relu\"),\n",
    "layers.Dropout(0.5),\n",
    "layers.Dense(1, activation=\"sigmoid\")\n",
    "])\n",
    "\n",
    "model.compile(optimizer=\"rmsprop\",\n",
    "loss=\"binary_crossentropy\",\n",
    "metrics=[\"accuracy\"])\n",
    "\n",
    "history = model.fit(partial_x_train,\n",
    "                    partial_y_train,\n",
    "                    epochs=20,\n",
    "                    batch_size=512,\n",
    "                    validation_data=(x_val, y_val))\n",
    "\n",
    "history_dict = history.history\n",
    "history_dict.keys()\n",
    "\n",
    "loss_values = history_dict[\"loss\"]\n",
    "val_loss_values = history_dict[\"val_loss\"]\n",
    "epochs = range(1, len(loss_values) + 1)\n",
    "\n",
    "plt.plot(epochs, loss_values, \"bo\", label=\"Training loss\")\n",
    "plt.plot(epochs, val_loss_values, \"b\", label=\"Validation loss\")\n",
    "plt.title(\"Training and validation loss\")\n",
    "plt.xlabel(\"Epochs\")\n",
    "plt.ylabel(\"Loss\")\n",
    "plt.legend()\n",
    "\n",
    "plt.show()"
   ]
  },
  {
   "cell_type": "markdown",
   "metadata": {
    "id": "QxwzsZstqBDW"
   },
   "source": [
    "**La rete inizia a comportarsi meglio, inizia a stabilizzarsi.**"
   ]
  }
 ],
 "metadata": {
  "colab": {
   "authorship_tag": "ABX9TyPpc0O5ECH0uLTgZ/iKMWQz",
   "provenance": []
  },
  "kernelspec": {
   "display_name": "Python 3",
   "name": "python3"
  },
  "language_info": {
   "name": "python"
  }
 },
 "nbformat": 4,
 "nbformat_minor": 0
}
